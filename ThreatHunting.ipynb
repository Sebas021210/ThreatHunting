{
 "cells": [
  {
   "cell_type": "markdown",
   "metadata": {},
   "source": [
    "# Laboratorio No. 5 Threat Hunting"
   ]
  },
  {
   "cell_type": "markdown",
   "metadata": {},
   "source": [
    "## Parte No. 1"
   ]
  },
  {
   "cell_type": "code",
   "execution_count": 1,
   "metadata": {},
   "outputs": [],
   "source": [
    "import json\n",
    "import pandas as pd\n",
    "import tldextract"
   ]
  },
  {
   "cell_type": "code",
   "execution_count": 3,
   "metadata": {},
   "outputs": [
    {
     "name": "stdout",
     "output_type": "stream",
     "text": [
      "Total de registros: 746909\n"
     ]
    }
   ],
   "source": [
    "# Paso 1: Cargar la información del archivo en una lista\n",
    "file_path = \"large_eve.json\"\n",
    "\n",
    "with open(file_path, \"r\") as file:\n",
    "    data = [json.loads(line) for line in file]\n",
    "\n",
    "print(f\"Total de registros: {len(data)}\")"
   ]
  },
  {
   "cell_type": "code",
   "execution_count": 4,
   "metadata": {},
   "outputs": [],
   "source": [
    "# Paso 2: Filtrar solo registros DNS\n",
    "dns_records = [record for record in data if record.get(\"event_type\") == \"dns\"]"
   ]
  },
  {
   "cell_type": "code",
   "execution_count": 5,
   "metadata": {},
   "outputs": [
    {
     "name": "stdout",
     "output_type": "stream",
     "text": [
      "Registros DNS filtrados: 15749\n"
     ]
    }
   ],
   "source": [
    "# Paso 3: Mostrar cantidad de registros filtrados\n",
    "print(f\"Registros DNS filtrados: {len(dns_records)}\")"
   ]
  },
  {
   "cell_type": "code",
   "execution_count": 6,
   "metadata": {},
   "outputs": [
    {
     "name": "stdout",
     "output_type": "stream",
     "text": [
      "Ejemplo de registros DNS:\n",
      "{\n",
      "  \"timestamp\": \"2017-07-22T17:33:16.661646-0500\",\n",
      "  \"flow_id\": 1327836194150542,\n",
      "  \"pcap_cnt\": 22269,\n",
      "  \"event_type\": \"dns\",\n",
      "  \"vlan\": 110,\n",
      "  \"src_ip\": \"2001:0dbb:0c18:0011:0260:6eff:fe30:0863\",\n",
      "  \"src_port\": 59680,\n",
      "  \"dest_ip\": \"2001:0500:0001:0000:0000:0000:803f:0235\",\n",
      "  \"dest_port\": 53,\n",
      "  \"proto\": \"UDP\",\n",
      "  \"dns\": {\n",
      "    \"type\": \"query\",\n",
      "    \"id\": 15529,\n",
      "    \"rrname\": \"api.wunderground.com\",\n",
      "    \"rrtype\": \"A\",\n",
      "    \"tx_id\": 0\n",
      "  }\n",
      "}\n",
      "{\n",
      "  \"timestamp\": \"2017-07-22T17:33:24.990320-0500\",\n",
      "  \"flow_id\": 2022925111925872,\n",
      "  \"pcap_cnt\": 54352,\n",
      "  \"event_type\": \"dns\",\n",
      "  \"vlan\": 110,\n",
      "  \"src_ip\": \"2001:0dbb:0c18:0011:0260:6eff:fe30:0863\",\n",
      "  \"src_port\": 38051,\n",
      "  \"dest_ip\": \"2001:0500:0003:0000:0000:0000:0000:0042\",\n",
      "  \"dest_port\": 53,\n",
      "  \"proto\": \"UDP\",\n",
      "  \"dns\": {\n",
      "    \"type\": \"query\",\n",
      "    \"id\": 58278,\n",
      "    \"rrname\": \"stork79.dropbox.com\",\n",
      "    \"rrtype\": \"A\",\n",
      "    \"tx_id\": 0\n",
      "  }\n",
      "}\n"
     ]
    }
   ],
   "source": [
    "# Paso 4: Mostrar 2 registros DNS aleatorios\n",
    "print(\"Ejemplo de registros DNS:\")\n",
    "for record in dns_records[:2]:\n",
    "    print(json.dumps(record, indent=2))"
   ]
  },
  {
   "cell_type": "code",
   "execution_count": 7,
   "metadata": {},
   "outputs": [
    {
     "name": "stdout",
     "output_type": "stream",
     "text": [
      "Shape del DataFrame: (15749, 18)\n"
     ]
    }
   ],
   "source": [
    "# Paso 5: Normalizar la data en un DataFrame\n",
    "df = pd.json_normalize(dns_records)\n",
    "\n",
    "# Mostrar la forma del DataFrame\n",
    "print(f\"Shape del DataFrame: {df.shape}\")"
   ]
  },
  {
   "cell_type": "code",
   "execution_count": 8,
   "metadata": {},
   "outputs": [
    {
     "name": "stdout",
     "output_type": "stream",
     "text": [
      "Registros tipo A: 2849\n"
     ]
    }
   ],
   "source": [
    "# Paso 6: Filtrar registros DNS tipo 'A' (resuelven a una IP)\n",
    "df_A = df[df[\"dns.rrtype\"] == \"A\"]\n",
    "\n",
    "# Mostrar cantidad de registros filtrados\n",
    "print(f\"Registros tipo A: {df_A.shape[0]}\")"
   ]
  },
  {
   "cell_type": "code",
   "execution_count": 9,
   "metadata": {},
   "outputs": [
    {
     "name": "stdout",
     "output_type": "stream",
     "text": [
      "Dominios únicos: 177\n"
     ]
    }
   ],
   "source": [
    "# Paso 7: Filtrar dominios únicos\n",
    "unique_domains = df_A[\"dns.rrname\"].unique()\n",
    "print(f\"Dominios únicos: {len(unique_domains)}\")"
   ]
  },
  {
   "cell_type": "code",
   "execution_count": 12,
   "metadata": {},
   "outputs": [
    {
     "name": "stdout",
     "output_type": "stream",
     "text": [
      "TLD de api.wunderground.com: wunderground.com\n",
      "TLD de safebrowsing.clients.google.com.home: home\n"
     ]
    }
   ],
   "source": [
    "# Paso 8: Función para obtener el TLD\n",
    "def get_tld(domain):\n",
    "    extracted = tldextract.extract(domain)\n",
    "    return f\"{extracted.domain}.{extracted.suffix}\" if extracted.suffix else extracted.domain\n",
    "\n",
    "test_domains = [\"api.wunderground.com\", \"safebrowsing.clients.google.com.home\"]\n",
    "for domain in test_domains:\n",
    "    print(f\"TLD de {domain}: {get_tld(domain)}\")"
   ]
  },
  {
   "cell_type": "code",
   "execution_count": 13,
   "metadata": {},
   "outputs": [
    {
     "data": {
      "text/html": [
       "<div>\n",
       "<style scoped>\n",
       "    .dataframe tbody tr th:only-of-type {\n",
       "        vertical-align: middle;\n",
       "    }\n",
       "\n",
       "    .dataframe tbody tr th {\n",
       "        vertical-align: top;\n",
       "    }\n",
       "\n",
       "    .dataframe thead th {\n",
       "        text-align: right;\n",
       "    }\n",
       "</style>\n",
       "<table border=\"1\" class=\"dataframe\">\n",
       "  <thead>\n",
       "    <tr style=\"text-align: right;\">\n",
       "      <th></th>\n",
       "      <th>dns.rrname</th>\n",
       "      <th>domain_tld</th>\n",
       "    </tr>\n",
       "  </thead>\n",
       "  <tbody>\n",
       "    <tr>\n",
       "      <th>0</th>\n",
       "      <td>api.wunderground.com</td>\n",
       "      <td>wunderground.com</td>\n",
       "    </tr>\n",
       "    <tr>\n",
       "      <th>1</th>\n",
       "      <td>stork79.dropbox.com</td>\n",
       "      <td>dropbox.com</td>\n",
       "    </tr>\n",
       "    <tr>\n",
       "      <th>2</th>\n",
       "      <td>hpca-tier2.office.aol.com.ad.aol.aoltw.net</td>\n",
       "      <td>aoltw.net</td>\n",
       "    </tr>\n",
       "    <tr>\n",
       "      <th>3</th>\n",
       "      <td>safebrowsing.clients.google.com.home</td>\n",
       "      <td>home</td>\n",
       "    </tr>\n",
       "    <tr>\n",
       "      <th>4</th>\n",
       "      <td>fxfeeds.mozilla.com</td>\n",
       "      <td>mozilla.com</td>\n",
       "    </tr>\n",
       "  </tbody>\n",
       "</table>\n",
       "</div>"
      ],
      "text/plain": [
       "                                   dns.rrname        domain_tld\n",
       "0                        api.wunderground.com  wunderground.com\n",
       "1                         stork79.dropbox.com       dropbox.com\n",
       "2  hpca-tier2.office.aol.com.ad.aol.aoltw.net         aoltw.net\n",
       "3        safebrowsing.clients.google.com.home              home\n",
       "4                         fxfeeds.mozilla.com       mozilla.com"
      ]
     },
     "execution_count": 13,
     "metadata": {},
     "output_type": "execute_result"
    }
   ],
   "source": [
    "# Paso 9: Crear nueva columna en el DataFrame\n",
    "df_tld = pd.DataFrame({\"dns.rrname\": unique_domains})\n",
    "df_tld[\"domain_tld\"] = df_tld[\"dns.rrname\"].apply(get_tld)\n",
    "\n",
    "# Mostrar resultado\n",
    "df_tld.head()"
   ]
  },
  {
   "cell_type": "code",
   "execution_count": 14,
   "metadata": {},
   "outputs": [],
   "source": [
    "df_tld.to_csv(\"filtered_domains.csv\", index=False)"
   ]
  }
 ],
 "metadata": {
  "kernelspec": {
   "display_name": "Python 3",
   "language": "python",
   "name": "python3"
  },
  "language_info": {
   "codemirror_mode": {
    "name": "ipython",
    "version": 3
   },
   "file_extension": ".py",
   "mimetype": "text/x-python",
   "name": "python",
   "nbconvert_exporter": "python",
   "pygments_lexer": "ipython3",
   "version": "3.11.7"
  }
 },
 "nbformat": 4,
 "nbformat_minor": 2
}
