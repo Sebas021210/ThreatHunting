{
 "cells": [
  {
   "cell_type": "markdown",
   "metadata": {},
   "source": [
    "# Laboratorio No. 5 Threat Hunting"
   ]
  },
  {
   "cell_type": "markdown",
   "metadata": {},
   "source": [
    "## Parte No. 1"
   ]
  },
  {
   "cell_type": "code",
   "execution_count": 1,
   "metadata": {},
   "outputs": [],
   "source": [
    "import json\n",
    "import pandas as pd\n",
    "import tldextract"
   ]
  },
  {
   "cell_type": "code",
   "execution_count": 3,
   "metadata": {},
   "outputs": [
    {
     "name": "stdout",
     "output_type": "stream",
     "text": [
      "Total de registros: 746909\n"
     ]
    }
   ],
   "source": [
    "# Paso 1: Cargar la información del archivo en una lista\n",
    "file_path = \"large_eve.json\"\n",
    "\n",
    "with open(file_path, \"r\") as file:\n",
    "    data = [json.loads(line) for line in file]\n",
    "\n",
    "print(f\"Total de registros: {len(data)}\")"
   ]
  },
  {
   "cell_type": "code",
   "execution_count": 4,
   "metadata": {},
   "outputs": [],
   "source": [
    "# Paso 2: Filtrar solo registros DNS\n",
    "dns_records = [record for record in data if record.get(\"event_type\") == \"dns\"]"
   ]
  },
  {
   "cell_type": "code",
   "execution_count": 5,
   "metadata": {},
   "outputs": [
    {
     "name": "stdout",
     "output_type": "stream",
     "text": [
      "Registros DNS filtrados: 15749\n"
     ]
    }
   ],
   "source": [
    "# Paso 3: Mostrar cantidad de registros filtrados\n",
    "print(f\"Registros DNS filtrados: {len(dns_records)}\")"
   ]
  },
  {
   "cell_type": "code",
   "execution_count": 6,
   "metadata": {},
   "outputs": [
    {
     "name": "stdout",
     "output_type": "stream",
     "text": [
      "Ejemplo de registros DNS:\n",
      "{\n",
      "  \"timestamp\": \"2017-07-22T17:33:16.661646-0500\",\n",
      "  \"flow_id\": 1327836194150542,\n",
      "  \"pcap_cnt\": 22269,\n",
      "  \"event_type\": \"dns\",\n",
      "  \"vlan\": 110,\n",
      "  \"src_ip\": \"2001:0dbb:0c18:0011:0260:6eff:fe30:0863\",\n",
      "  \"src_port\": 59680,\n",
      "  \"dest_ip\": \"2001:0500:0001:0000:0000:0000:803f:0235\",\n",
      "  \"dest_port\": 53,\n",
      "  \"proto\": \"UDP\",\n",
      "  \"dns\": {\n",
      "    \"type\": \"query\",\n",
      "    \"id\": 15529,\n",
      "    \"rrname\": \"api.wunderground.com\",\n",
      "    \"rrtype\": \"A\",\n",
      "    \"tx_id\": 0\n",
      "  }\n",
      "}\n",
      "{\n",
      "  \"timestamp\": \"2017-07-22T17:33:24.990320-0500\",\n",
      "  \"flow_id\": 2022925111925872,\n",
      "  \"pcap_cnt\": 54352,\n",
      "  \"event_type\": \"dns\",\n",
      "  \"vlan\": 110,\n",
      "  \"src_ip\": \"2001:0dbb:0c18:0011:0260:6eff:fe30:0863\",\n",
      "  \"src_port\": 38051,\n",
      "  \"dest_ip\": \"2001:0500:0003:0000:0000:0000:0000:0042\",\n",
      "  \"dest_port\": 53,\n",
      "  \"proto\": \"UDP\",\n",
      "  \"dns\": {\n",
      "    \"type\": \"query\",\n",
      "    \"id\": 58278,\n",
      "    \"rrname\": \"stork79.dropbox.com\",\n",
      "    \"rrtype\": \"A\",\n",
      "    \"tx_id\": 0\n",
      "  }\n",
      "}\n"
     ]
    }
   ],
   "source": [
    "# Paso 4: Mostrar 2 registros DNS aleatorios\n",
    "print(\"Ejemplo de registros DNS:\")\n",
    "for record in dns_records[:2]:\n",
    "    print(json.dumps(record, indent=2))"
   ]
  },
  {
   "cell_type": "code",
   "execution_count": 7,
   "metadata": {},
   "outputs": [
    {
     "name": "stdout",
     "output_type": "stream",
     "text": [
      "Shape del DataFrame: (15749, 18)\n"
     ]
    }
   ],
   "source": [
    "# Paso 5: Normalizar la data en un DataFrame\n",
    "df = pd.json_normalize(dns_records)\n",
    "\n",
    "# Mostrar la forma del DataFrame\n",
    "print(f\"Shape del DataFrame: {df.shape}\")"
   ]
  },
  {
   "cell_type": "code",
   "execution_count": 8,
   "metadata": {},
   "outputs": [
    {
     "name": "stdout",
     "output_type": "stream",
     "text": [
      "Registros tipo A: 2849\n"
     ]
    }
   ],
   "source": [
    "# Paso 6: Filtrar registros DNS tipo 'A' (resuelven a una IP)\n",
    "df_A = df[df[\"dns.rrtype\"] == \"A\"]\n",
    "\n",
    "# Mostrar cantidad de registros filtrados\n",
    "print(f\"Registros tipo A: {df_A.shape[0]}\")"
   ]
  },
  {
   "cell_type": "code",
   "execution_count": 9,
   "metadata": {},
   "outputs": [
    {
     "name": "stdout",
     "output_type": "stream",
     "text": [
      "Dominios únicos: 177\n"
     ]
    }
   ],
   "source": [
    "# Paso 7: Filtrar dominios únicos\n",
    "unique_domains = df_A[\"dns.rrname\"].unique()\n",
    "print(f\"Dominios únicos: {len(unique_domains)}\")"
   ]
  },
  {
   "cell_type": "code",
   "execution_count": 12,
   "metadata": {},
   "outputs": [
    {
     "name": "stdout",
     "output_type": "stream",
     "text": [
      "TLD de api.wunderground.com: wunderground.com\n",
      "TLD de safebrowsing.clients.google.com.home: home\n"
     ]
    }
   ],
   "source": [
    "# Paso 8: Función para obtener el TLD\n",
    "def get_tld(domain):\n",
    "    extracted = tldextract.extract(domain)\n",
    "    return f\"{extracted.domain}.{extracted.suffix}\" if extracted.suffix else extracted.domain\n",
    "\n",
    "test_domains = [\"api.wunderground.com\", \"safebrowsing.clients.google.com.home\"]\n",
    "for domain in test_domains:\n",
    "    print(f\"TLD de {domain}: {get_tld(domain)}\")"
   ]
  },
  {
   "cell_type": "code",
   "execution_count": 13,
   "metadata": {},
   "outputs": [
    {
     "data": {
      "text/html": [
       "<div>\n",
       "<style scoped>\n",
       "    .dataframe tbody tr th:only-of-type {\n",
       "        vertical-align: middle;\n",
       "    }\n",
       "\n",
       "    .dataframe tbody tr th {\n",
       "        vertical-align: top;\n",
       "    }\n",
       "\n",
       "    .dataframe thead th {\n",
       "        text-align: right;\n",
       "    }\n",
       "</style>\n",
       "<table border=\"1\" class=\"dataframe\">\n",
       "  <thead>\n",
       "    <tr style=\"text-align: right;\">\n",
       "      <th></th>\n",
       "      <th>dns.rrname</th>\n",
       "      <th>domain_tld</th>\n",
       "    </tr>\n",
       "  </thead>\n",
       "  <tbody>\n",
       "    <tr>\n",
       "      <th>0</th>\n",
       "      <td>api.wunderground.com</td>\n",
       "      <td>wunderground.com</td>\n",
       "    </tr>\n",
       "    <tr>\n",
       "      <th>1</th>\n",
       "      <td>stork79.dropbox.com</td>\n",
       "      <td>dropbox.com</td>\n",
       "    </tr>\n",
       "    <tr>\n",
       "      <th>2</th>\n",
       "      <td>hpca-tier2.office.aol.com.ad.aol.aoltw.net</td>\n",
       "      <td>aoltw.net</td>\n",
       "    </tr>\n",
       "    <tr>\n",
       "      <th>3</th>\n",
       "      <td>safebrowsing.clients.google.com.home</td>\n",
       "      <td>home</td>\n",
       "    </tr>\n",
       "    <tr>\n",
       "      <th>4</th>\n",
       "      <td>fxfeeds.mozilla.com</td>\n",
       "      <td>mozilla.com</td>\n",
       "    </tr>\n",
       "  </tbody>\n",
       "</table>\n",
       "</div>"
      ],
      "text/plain": [
       "                                   dns.rrname        domain_tld\n",
       "0                        api.wunderground.com  wunderground.com\n",
       "1                         stork79.dropbox.com       dropbox.com\n",
       "2  hpca-tier2.office.aol.com.ad.aol.aoltw.net         aoltw.net\n",
       "3        safebrowsing.clients.google.com.home              home\n",
       "4                         fxfeeds.mozilla.com       mozilla.com"
      ]
     },
     "execution_count": 13,
     "metadata": {},
     "output_type": "execute_result"
    }
   ],
   "source": [
    "# Paso 9: Crear nueva columna en el DataFrame\n",
    "df_tld = pd.DataFrame({\"dns.rrname\": unique_domains})\n",
    "df_tld[\"domain_tld\"] = df_tld[\"dns.rrname\"].apply(get_tld)\n",
    "\n",
    "# Mostrar resultado\n",
    "df_tld.head()"
   ]
  },
  {
   "cell_type": "code",
   "execution_count": 14,
   "metadata": {},
   "outputs": [],
   "source": [
    "df_tld.to_csv(\"filtered_domains.csv\", index=False)"
   ]
  },
  {
   "cell_type": "markdown",
   "metadata": {},
   "source": [
    "## Parte No. 2"
   ]
  },
  {
   "cell_type": "code",
   "execution_count": 50,
   "metadata": {},
   "outputs": [],
   "source": [
    "import os\n",
    "import google.generativeai as genai\n",
    "import pandas as pd\n",
    "import time\n",
    "import re"
   ]
  },
  {
   "cell_type": "code",
   "execution_count": 54,
   "metadata": {},
   "outputs": [],
   "source": [
    "# Configurar API Key desde .env\n",
    "from dotenv import load_dotenv\n",
    "load_dotenv()\n",
    "GOOGLE_API_KEY = os.getenv(\"GOOGLE_API_KEY_NEW\")\n",
    "\n",
    "genai.configure(api_key=GOOGLE_API_KEY)\n",
    "model = genai.GenerativeModel(\"models/gemini-1.5-pro\")"
   ]
  },
  {
   "cell_type": "code",
   "execution_count": 55,
   "metadata": {},
   "outputs": [],
   "source": [
    "# Función para clasificar dominios\n",
    "def classify_domain(domain):\n",
    "    prompt = f\"\"\"\n",
    "Eres un experto en ciberseguridad. Clasifica el siguiente dominio como DGA (1) o legítimo (0).\n",
    "Solo responde con 1 o 0. Dominio: {domain}\n",
    "\"\"\"\n",
    "    try:\n",
    "        response = model.generate_content(prompt)\n",
    "        text = response.text.strip()\n",
    "\n",
    "        match = re.search(r'[01]', text)\n",
    "        if match:\n",
    "            result = int(match.group(0))\n",
    "            print(f\"[✔] {domain} -> {result}\")\n",
    "            return result\n",
    "        else:\n",
    "            print(f\"[!] Respuesta inesperada para {domain}: '{text}'\")\n",
    "            return -1\n",
    "    except Exception as e:\n",
    "        print(f\"[X] Error clasificando {domain}: {e}\")\n",
    "        return -1"
   ]
  },
  {
   "cell_type": "code",
   "execution_count": 56,
   "metadata": {},
   "outputs": [
    {
     "name": "stdout",
     "output_type": "stream",
     "text": [
      "[✔] wunderground.com -> 0\n",
      "[✔] dropbox.com -> 0\n",
      "[✔] aoltw.net -> 0\n",
      "[✔] mozilla.com -> 0\n",
      "[✔] metasploit.com -> 0\n",
      "[✔] aol.com -> 0\n",
      "[✔] aoltw.net -> 0\n",
      "[✔] aol.com -> 0\n",
      "[✔] aol.com -> 0\n",
      "[✔] aoltw.net -> 0\n",
      "[✔] aol.com -> 0\n",
      "[✔] google.com -> 0\n",
      "[✔] stayonline.net -> 0\n",
      "[✔] aoltw.net -> 0\n",
      "[✔] aol.com -> 0\n",
      "[✔] aol.com -> 0\n",
      "[✔] informaction.com -> 0\n",
      "[✔] vmware.com -> 0\n",
      "[✔] mozilla.com -> 0\n",
      "[✔] windows.com -> 0\n",
      "[✔] vmware.com -> 0\n",
      "[✔] ntkrnlpa.info -> 0\n",
      "[✔] portswigger.net -> 0\n",
      "[✔] offensive-security.com -> 0\n",
      "[✔] stayonline.net -> 0\n",
      "[✔] stopbadware.org -> 0\n",
      "[✔] aoltw.net -> 0\n",
      "[✔] arrancar.org -> 0\n",
      "[✔] sql-ledger.org -> 0\n",
      "[✔] backtrack-linux.org -> 0\n",
      "[✔] stayonline.net -> 0\n",
      "[✔] mozilla.com -> 0\n",
      "[✔] theanime.cn -> 0\n",
      "[✔] theanime.cn -> 0\n",
      "[✔] aoltw.net -> 0\n",
      "[✔] aoltw.net -> 0\n",
      "[✔] aoltw.net -> 0\n",
      "[✔] stayonline.net -> 0\n",
      "[✔] aoltw.net -> 0\n",
      "[✔] aol.com -> 0\n",
      "[✔] aoltw.net -> 0\n",
      "[✔] phpmyadmin.net -> 0\n",
      "[✔] google.com -> 0\n",
      "[✔] google.com -> 0\n",
      "[✔] microsoft.com -> 0\n",
      "[✔] aoltw.net -> 0\n",
      "[✔] comcast.net -> 0\n",
      "[✔] google.com -> 0\n",
      "[✔] aoltw.net -> 0\n",
      "[✔] ubuntu.com -> 0\n",
      "[✔] mozilla.com -> 0\n",
      "[✔] alexa.com -> 0\n",
      "[✔] postgresql.org -> 0\n",
      "[✔] sourceforge.net -> 0\n",
      "[✔] freepbx.org -> 0\n",
      "[✔] bigflickrfeed.com -> 0\n",
      "[✔] gnu.org -> 0\n",
      "[✔] google.com -> 0\n",
      "[✔] comcast.net -> 0\n",
      "[✔] sourceforge.net -> 0\n",
      "[✔] freepbx.org -> 0\n",
      "[✔] acunetix.com -> 0\n",
      "[✔] acunetix.com -> 0\n",
      "[✔] microsoft.com -> 0\n",
      "[✔] windowsupdate.com -> 0\n",
      "[✔] microsoft.com -> 0\n",
      "[✔] flickr.com -> 0\n",
      "[✔] alexa.com -> 0\n",
      "[✔] microsoft.com -> 0\n",
      "[✔] aol.com -> 0\n",
      "[✔] malwarecity.com -> 0\n",
      "[✔] facebook.com -> 0\n",
      "[✔] comcast.net -> 0\n",
      "[✔] comcast.net -> 0\n",
      "[✔] securityfocus.com -> 0\n",
      "[✔] xmarks.com -> 0\n",
      "[✔] cakephp.org -> 0\n",
      "[✔] hec.net -> 0\n",
      "[✔] google.com -> 0\n",
      "[✔] adams.net -> 0\n",
      "[✔] uidaho.edu -> 0\n",
      "[✔] pdx.edu -> 0\n",
      "[✔] clarkson.edu -> 0\n",
      "[✔] rackspace.com -> 0\n",
      "[✔] ecvps.com -> 0\n",
      "[✔] wisc.edu -> 0\n",
      "[✔] facebook.net -> 0\n",
      "[✔] easynews.com -> 0\n",
      "[✔] bluehost.com -> 0\n",
      "[✔] netriplex.com -> 0\n",
      "[✔] stanford.edu -> 0\n",
      "[✔] tummy.com -> 0\n",
      "[✔] fastserv.com -> 0\n",
      "[✔] kernel.org -> 0\n",
      "[✔] hmc.edu -> 0\n",
      "[✔] liquidweb.com -> 0\n",
      "[✔] 5ninesolutions.com -> 0\n",
      "[✔] fastserv.com -> 0\n",
      "[✔] interworx.info -> 0\n",
      "[✔] wallawalla.edu -> 0\n",
      "[✔] sanctuaryhost.com -> 0\n",
      "[✔] team-cymru.org -> 0\n",
      "[✔] umoss.org -> 0\n",
      "[✔] gigenet.com -> 0\n",
      "[✔] xmission.com -> 0\n",
      "[✔] upenn.edu -> 0\n",
      "[✔] tds.net -> 0\n",
      "[✔] nyi.net -> 0\n",
      "[✔] atlantic.net -> 0\n",
      "[✔] usf.edu -> 0\n",
      "[✔] rocketinternet.net -> 0\n",
      "[✔] rit.edu -> 0\n",
      "[✔] google.com -> 0\n",
      "[✔] apple.com -> 0\n",
      "[✔] apple.com -> 0\n",
      "[✔] xmarks.com -> 0\n",
      "[✔] aol.com -> 0\n",
      "[✔] google.com -> 0\n",
      "[✔] stayonline.net -> 0\n",
      "[✔] aoltw.net -> 0\n",
      "[✔] me.com -> 0\n",
      "[✔] apple.com -> 0\n",
      "[✔] me.com -> 0\n",
      "[✔] apple.com -> 0\n",
      "[✔] google.com -> 0\n",
      "[✔] youtube.com -> 0\n",
      "[✔] me.com -> 0\n",
      "[✔] msftncsi.com -> 0\n",
      "[✔] kodapp.com -> 0\n",
      "[✔] threatspace.net -> 0\n",
      "[✔] msftncsi.com -> 0\n",
      "[✔] backblaze.com -> 0\n",
      "[✔] social-engineer.org -> 0\n",
      "[✔] microsoft.com -> 0\n",
      "[✔] arduino.cc -> 0\n",
      "[✔] aol.com -> 0\n",
      "[✔] mac.com -> 0\n",
      "[✔] nvidia.com -> 0\n",
      "[✔] mozilla.org -> 0\n",
      "[✔] mozilla.org -> 0\n",
      "[✔] mac.com -> 0\n",
      "[✔] nagios.org -> 0\n",
      "[✔] vtlfccmfxlkgifuf.com -> 1\n",
      "[✔] aoltw.net -> 0\n",
      "[✔] macromates.com -> 0\n",
      "[✔] google.com -> 0\n",
      "[✔] ejfodfmfxlkgifuf.xyz -> 1\n",
      "[✔] 192.168.22.201 -> 0\n",
      "[✔] aol.com -> 0\n",
      "[✔] aoltw.net -> 0\n",
      "[✔] microsoft.com -> 0\n",
      "[✔] verisign.com -> 0\n",
      "[✔] 192.168.22.201 -> 0\n",
      "[✔] real.com -> 0\n",
      "Cantidad de dominios clasificados como DGA (con posibles duplicados): 2\n",
      "Cantidad de dominios DGA únicos: 2\n",
      "               dns.rrname            domain_tld  dga_label\n",
      "161  vtlfccmfxlkgifuf.com  vtlfccmfxlkgifuf.com          1\n",
      "168  ejfodfmfxlkgifuf.xyz  ejfodfmfxlkgifuf.xyz          1\n"
     ]
    }
   ],
   "source": [
    "# Leer CSV\n",
    "df_tld = pd.read_csv(\"filtered_domains.csv\", names=[\"dns.rrname\", \"domain_tld\"])\n",
    "\n",
    "# Filtrar dominios inválidos antes de clasificar\n",
    "df_tld = df_tld[df_tld[\"domain_tld\"].str.contains(r\"\\.\", regex=True, na=False)]\n",
    "\n",
    "# Clasificar dominios\n",
    "df_tld[\"dga_label\"] = df_tld[\"domain_tld\"].apply(lambda x: classify_domain(x) if x else -1)\n",
    "time.sleep(1.5)\n",
    "\n",
    "# Filtrar solo DGA\n",
    "dga_domains = df_tld[df_tld[\"dga_label\"] == 1]\n",
    "dga_domains_unique = dga_domains.drop_duplicates(subset=[\"domain_tld\"])\n",
    "\n",
    "# Mostrar resultados\n",
    "print(\"Cantidad de dominios clasificados como DGA (con posibles duplicados):\", dga_domains.shape[0])\n",
    "print(\"Cantidad de dominios DGA únicos:\", dga_domains_unique.shape[0])\n",
    "print(dga_domains_unique.head())"
   ]
  },
  {
   "cell_type": "code",
   "execution_count": 58,
   "metadata": {},
   "outputs": [],
   "source": [
    "# Guardar en CSV\n",
    "dga_domains_unique.to_csv(\"filtered_dga_domains.csv\", index=False)"
   ]
  }
 ],
 "metadata": {
  "kernelspec": {
   "display_name": "Python 3",
   "language": "python",
   "name": "python3"
  },
  "language_info": {
   "codemirror_mode": {
    "name": "ipython",
    "version": 3
   },
   "file_extension": ".py",
   "mimetype": "text/x-python",
   "name": "python",
   "nbconvert_exporter": "python",
   "pygments_lexer": "ipython3",
   "version": "3.11.7"
  }
 },
 "nbformat": 4,
 "nbformat_minor": 2
}
